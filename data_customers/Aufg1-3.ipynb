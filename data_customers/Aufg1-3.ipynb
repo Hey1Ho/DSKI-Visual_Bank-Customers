{
 "cells": [
  {
   "cell_type": "markdown",
   "metadata": {},
   "source": [
    "# Bank - Attritionanalysis\n",
    "\n",
    "#### Daten einlesen"
   ]
  },
  {
   "cell_type": "code",
   "execution_count": 1,
   "metadata": {},
   "outputs": [
    {
     "name": "stdout",
     "output_type": "stream",
     "text": [
      "(10006, 13)\n",
      "<bound method NDFrame.head of       num_kids  customer_id  credit_score  country  gender  age  tenure  \\\n",
      "0            -     15613656           842   France    Male   58       1   \n",
      "1            -     15734311           661   France  Female   27       3   \n",
      "2            -     15657214           601   France    Male   74       2   \n",
      "3            -     15799350           632   France    Male   41       0   \n",
      "4            -     15729970           684  Germany    Male   29       8   \n",
      "...        ...          ...           ...      ...     ...  ...     ...   \n",
      "10001        -     15606229           771   France    Male   39       5   \n",
      "10002        -     15569892           516   France    Male   35      10   \n",
      "10003        -     15584532           709   France  Female   36       7   \n",
      "10004        -     15682355           772  Germany    Male   42       3   \n",
      "10005        -     15628319           792   France  Female   28       4   \n",
      "\n",
      "         balance  products_number  credit_card  active_member  \\\n",
      "0       63492.94                1          1.0              1   \n",
      "1           0.00                2          1.0              1   \n",
      "2           0.00                2          0.0              1   \n",
      "3      106134.46                1          0.0              1   \n",
      "4      127269.75                1          0.0              1   \n",
      "...          ...              ...          ...            ...   \n",
      "10001       0.00                2          1.0              0   \n",
      "10002   57369.61                1          1.0              1   \n",
      "10003       0.00                1          0.0              1   \n",
      "10004   75075.31                2          1.0              0   \n",
      "10005  130142.79                1          1.0              0   \n",
      "\n",
      "       estimated_salary  churn  \n",
      "0              83172.19      0  \n",
      "1              76889.79      0  \n",
      "2              51554.58      0  \n",
      "3             105570.39      0  \n",
      "4              79495.01      0  \n",
      "...                 ...    ...  \n",
      "10001          96270.64      0  \n",
      "10002         101699.77      0  \n",
      "10003          42085.58      1  \n",
      "10004          92888.52      1  \n",
      "10005          38190.78      0  \n",
      "\n",
      "[10006 rows x 13 columns]>\n"
     ]
    }
   ],
   "source": [
    "import os\n",
    "import pandas as pd\n",
    "import matplotlib.pyplot as plt\n",
    "\n",
    "dataframes = []\n",
    "for csv_file in os.listdir(\"data\"):\n",
    "    if csv_file.endswith(\".csv\"):\n",
    "        dataframes.append(pd.read_csv(\"data/\" + csv_file, sep=\"|\"))\n",
    "\n",
    "df = pd.concat(dataframes, ignore_index=True)\n",
    "\n",
    "print(df.shape)\n",
    "print(df.head)\n"
   ]
  }
 ],
 "metadata": {
  "kernelspec": {
   "display_name": ".venv",
   "language": "python",
   "name": "python3"
  },
  "language_info": {
   "codemirror_mode": {
    "name": "ipython",
    "version": 3
   },
   "file_extension": ".py",
   "mimetype": "text/x-python",
   "name": "python",
   "nbconvert_exporter": "python",
   "pygments_lexer": "ipython3",
   "version": "3.13.1"
  }
 },
 "nbformat": 4,
 "nbformat_minor": 2
}
