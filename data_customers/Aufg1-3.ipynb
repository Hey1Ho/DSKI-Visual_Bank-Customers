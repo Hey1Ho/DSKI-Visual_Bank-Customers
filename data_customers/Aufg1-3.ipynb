{
 "cells": [
  {
   "cell_type": "markdown",
   "metadata": {},
   "source": [
    "# Bank - Attritionanalysis\n",
    "\n",
    "#### Daten einlesen"
   ]
  },
  {
   "cell_type": "code",
   "execution_count": 1,
   "metadata": {},
   "outputs": [
    {
     "name": "stdout",
     "output_type": "stream",
     "text": [
      "(10006, 13)\n"
     ]
    }
   ],
   "source": [
    "import os\n",
    "import pandas as pd\n",
    "import matplotlib.pyplot as plt\n",
    "\n",
    "path = \"data/\"\n",
    "dataframes = []\n",
    "for csv_file in os.listdir(path):\n",
    "    if csv_file.endswith(\".csv\"):\n",
    "        dataframes.append(pd.read_csv(path + csv_file, sep=\"|\"))\n",
    "\n",
    "df = pd.concat(dataframes, ignore_index=True)\n",
    "\n",
    "print(df.shape)"
   ]
  },
  {
   "cell_type": "markdown",
   "metadata": {},
   "source": [
    "#### Kontrolle des zusammengefügten DataFrames\n",
    "\n",
    "- Summe aller Zeilen der csv-Dateien\n",
    "- Spaltenanzahl (Features)\n",
    "- Ausgabe der Features"
   ]
  },
  {
   "cell_type": "code",
   "execution_count": 18,
   "metadata": {},
   "outputs": [
    {
     "name": "stdout",
     "output_type": "stream",
     "text": [
      "Summe der Zeilen aller csv-Dateien: 10006\n",
      "Anzahl der Features (Spalten): 13\n",
      "['num_kids' 'customer_id' 'credit_score' 'country' 'gender' 'age' 'tenure'\n",
      " 'balance' 'products_number' 'credit_card' 'active_member'\n",
      " 'estimated_salary' 'churn']\n"
     ]
    }
   ],
   "source": [
    "path = \"data/\"\n",
    "sum_rows = 0\n",
    "for csv_file in os.listdir(path):\n",
    "    df = pd.read_csv(path + csv_file, sep=\"|\")\n",
    "    sum_rows += int(df.shape[0])\n",
    "\n",
    "print(f\"Summe der Zeilen aller csv-Dateien: {sum_rows}\\nAnzahl der Features (Spalten): {df.shape[1]}\\n{df.columns.values}\")"
   ]
  },
  {
   "cell_type": "markdown",
   "metadata": {},
   "source": [
    "#### "
   ]
  }
 ],
 "metadata": {
  "kernelspec": {
   "display_name": ".venv",
   "language": "python",
   "name": "python3"
  },
  "language_info": {
   "codemirror_mode": {
    "name": "ipython",
    "version": 3
   },
   "file_extension": ".py",
   "mimetype": "text/x-python",
   "name": "python",
   "nbconvert_exporter": "python",
   "pygments_lexer": "ipython3",
   "version": "3.13.1"
  }
 },
 "nbformat": 4,
 "nbformat_minor": 2
}
