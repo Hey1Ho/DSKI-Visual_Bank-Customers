{
 "cells": [
  {
   "cell_type": "markdown",
   "metadata": {},
   "source": [
    "# Bank - Attritionanalysis\n",
    "\n",
    "#### Daten einlesen"
   ]
  },
  {
   "cell_type": "code",
   "execution_count": 1,
   "metadata": {
    "ExecuteTime": {
     "end_time": "2025-02-20T19:20:34.673243Z",
     "start_time": "2025-02-20T19:20:34.168249Z"
    }
   },
   "outputs": [
    {
     "name": "stdout",
     "output_type": "stream",
     "text": [
      "(10006, 13)\n"
     ]
    }
   ],
   "source": [
    "import os\n",
    "\n",
    "import pandas as pd\n",
    "import matplotlib.pyplot as plt\n",
    "\n",
    "path = \"data/\"\n",
    "dataframes = []\n",
    "for csv_file in os.listdir(path):\n",
    "    if csv_file.endswith(\".csv\"):\n",
    "        dataframes.append(pd.read_csv(path + csv_file, sep=\"|\"))\n",
    "\n",
    "df = pd.concat(dataframes, ignore_index=True)\n",
    "\n",
    "print(df.shape)"
   ]
  },
  {
   "cell_type": "markdown",
   "metadata": {},
   "source": [
    "### Kontrolle des zusammengefügten DataFrames\n",
    "\n",
    "- Summe aller Zeilen der csv-Dateien\n",
    "- Spaltenanzahl (Features)\n",
    "- Ausgabe der Features"
   ]
  },
  {
   "cell_type": "code",
   "execution_count": 2,
   "metadata": {
    "ExecuteTime": {
     "end_time": "2025-02-20T19:20:34.751052Z",
     "start_time": "2025-02-20T19:20:34.740028Z"
    }
   },
   "outputs": [
    {
     "name": "stdout",
     "output_type": "stream",
     "text": [
      "Summe der Zeilen aller csv-Dateien: 10006\n",
      "Anzahl der Features (Spalten): 13\n",
      "num_kids             object\n",
      "customer_id           int64\n",
      "credit_score          int64\n",
      "country              object\n",
      "gender               object\n",
      "age                   int64\n",
      "tenure                int64\n",
      "balance             float64\n",
      "products_number       int64\n",
      "credit_card           int64\n",
      "active_member         int64\n",
      "estimated_salary    float64\n",
      "churn                 int64\n",
      "dtype: object\n"
     ]
    }
   ],
   "source": [
    "path = \"data/\"\n",
    "sum_rows = 0\n",
    "for csv_file in os.listdir(path):\n",
    "    df = pd.read_csv(path + csv_file, sep=\"|\")\n",
    "    sum_rows += df.shape[0]\n",
    "\n",
    "print(f\"Summe der Zeilen aller csv-Dateien: {sum_rows}\\nAnzahl der Features (Spalten): {df.shape[1]}\\n{df.dtypes}\")"
   ]
  },
  {
   "cell_type": "markdown",
   "metadata": {},
   "source": [
    "### Erste Identifikation von Datenproblemen\n",
    "\n",
    "#####Analyse der Spalten mit dem Datentyp object (string)"
   ]
  },
  {
   "cell_type": "code",
   "execution_count": 3,
   "metadata": {
    "ExecuteTime": {
     "end_time": "2025-02-20T19:20:34.818493Z",
     "start_time": "2025-02-20T19:20:34.813513Z"
    }
   },
   "outputs": [
    {
     "name": "stdout",
     "output_type": "stream",
     "text": [
      "num_kids\n",
      "['-']\n",
      "country\n",
      "['Germany' 'Spain' 'France']\n",
      "gender\n",
      "['Male' 'Female' 'male' 'M' 'F' 'female']\n",
      "num_kids\n",
      "['-']\n",
      "country\n",
      "['Germany' 'Spain' 'France']\n",
      "gender\n",
      "['male' 'female']\n"
     ]
    }
   ],
   "source": [
    "def get_unique_objects():\n",
    "    features = df.columns.values\n",
    "    for feature in features:\n",
    "        if df[feature].values.dtype not in [int, float]:\n",
    "            print(f\"{df[feature].name}\\n{df[feature].unique()}\")\n",
    "          \n",
    "get_unique_objects()\n",
    "df[\"gender\"] = df[\"gender\"].str.lower()\n",
    "df[\"gender\"] = df[\"gender\"].replace(\"f\", \"female\").replace(\"m\", \"male\")\n",
    "get_unique_objects()\n"
   ]
  },
  {
   "cell_type": "markdown",
   "metadata": {},
   "source": [
    "##### Analyse der numerischen Spalten"
   ]
  },
  {
   "cell_type": "code",
   "execution_count": 4,
   "metadata": {
    "ExecuteTime": {
     "end_time": "2025-02-20T19:20:34.922808Z",
     "start_time": "2025-02-20T19:20:34.856433Z"
    }
   },
   "outputs": [
    {
     "data": {
      "image/png": "[encoded data removed]",
      "text/plain": [
       "<Figure size 300x600 with 1 Axes>"
      ]
     },
     "metadata": {},
     "output_type": "display_data"
    },
    {
     "name": "stdout",
     "output_type": "stream",
     "text": [
      "Min Age: 18\n",
      "Max Age: 83\n",
      "Avg Age: 38.85\n"
     ]
    }
   ],
   "source": [
    "fig, ax = plt.subplots(figsize=(3, 6))\n",
    "\n",
    "age = df[\"age\"]\n",
    "\n",
    "ax.boxplot([age])\n",
    "ax.set_ylabel('Age (in years)')\n",
    "ax.set_xticklabels(['Alter'])\n",
    "ax.set_title('Box Plot: Age Feature')\n",
    "plt.show()\n",
    "\n",
    "print(f\"Min Age: {df[\"age\"].min()}\\nMax Age: {df['age'].max()}\\nAvg Age: {round(df['age'].mean(), 2)}\")"
   ]
  }
 ],
 "metadata": {
  "kernelspec": {
   "display_name": ".venv",
   "language": "python",
   "name": "python3"
  },
  "language_info": {
   "codemirror_mode": {
    "name": "ipython",
    "version": 3
   },
   "file_extension": ".py",
   "mimetype": "text/x-python",
   "name": "python",
   "nbconvert_exporter": "python",
   "pygments_lexer": "ipython3",
   "version": "3.13.1"
  }
 },
 "nbformat": 4,
 "nbformat_minor": 2
}
