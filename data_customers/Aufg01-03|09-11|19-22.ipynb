{
 "cells": [
  {
   "cell_type": "markdown",
   "metadata": {},
   "source": [
    "# Bank - Attritionanalysis\n",
    "\n",
    "#### Daten einlesen"
   ]
  },
  {
   "cell_type": "code",
   "execution_count": null,
   "metadata": {
    "ExecuteTime": {
     "end_time": "2025-02-21T08:56:33.332836Z",
     "start_time": "2025-02-21T08:56:32.298674Z"
    }
   },
   "outputs": [],
   "source": [
    "import os\n",
    "import numpy as np\n",
    "import pandas as pd\n",
    "import matplotlib.pyplot as plt\n",
    "\n",
    "path = \"data/\"\n",
    "dataframes = []\n",
    "for csv_file in os.listdir(path):\n",
    "    if csv_file.endswith(\".csv\"):\n",
    "        dataframes.append(pd.read_csv(path + csv_file, sep=\"|\"))\n",
    "\n",
    "df = pd.concat(dataframes, ignore_index=True)\n",
    "\n",
    "print(df.shape)"
   ]
  },
  {
   "cell_type": "markdown",
   "metadata": {},
   "source": [
    "### Kontrolle des zusammengefügten DataFrames\n",
    "\n",
    "- Summe aller Zeilen der csv-Dateien\n",
    "- Spaltenanzahl (Features)\n",
    "- Ausgabe der Features"
   ]
  },
  {
   "cell_type": "code",
   "execution_count": 3,
   "metadata": {
    "ExecuteTime": {
     "end_time": "2025-02-21T08:56:33.349876Z",
     "start_time": "2025-02-21T08:56:33.347686Z"
    }
   },
   "outputs": [],
   "source": [
    "# path = \"data/\"\n",
    "# sum_rows = 0\n",
    "# for csv_file in os.listdir(path):\n",
    "#     df = pd.read_csv(path + csv_file, sep=\"|\")\n",
    "#     sum_rows += df.shape[0]\n",
    "\n",
    "# print(f\"Summe der Zeilen aller csv-Dateien: {sum_rows}\\nAnzahl der Features (Spalten): {df.shape[1]}\\n{df.dtypes}\")"
   ]
  },
  {
   "cell_type": "markdown",
   "metadata": {},
   "source": [
    "### Erste Identifikation von Datenproblemen\n",
    "\n",
    "#####Analyse der Spalten mit dem Datentyp object (string)"
   ]
  },
  {
   "cell_type": "code",
   "execution_count": null,
   "metadata": {
    "ExecuteTime": {
     "end_time": "2025-02-21T08:56:33.395811Z",
     "start_time": "2025-02-21T08:56:33.384134Z"
    }
   },
   "outputs": [],
   "source": [
    "def get_unique_objects():\n",
    "    features = df.columns.values\n",
    "    for feature in features:\n",
    "        if df[feature].values.dtype not in [int, float]:\n",
    "            df.drop_duplicates(inplace=True)\n",
    "            print(f\"{df[feature].name}\\n{df[feature].unique()}\")\n",
    "          \n",
    "#get_unique_objects()\n",
    "df[\"gender\"] = df[\"gender\"].str.lower()\n",
    "df[\"gender\"] = df[\"gender\"].replace(\"f\", \"female\").replace(\"m\", \"male\")\n",
    "df[\"gender\"] = df[\"gender\"].fillna(df[\"gender\"].mode()[0])\n",
    "get_unique_objects()\n"
   ]
  },
  {
   "cell_type": "markdown",
   "metadata": {},
   "source": [
    "##### Analyse der numerischen Spalten"
   ]
  },
  {
   "cell_type": "code",
   "execution_count": null,
   "metadata": {
    "ExecuteTime": {
     "end_time": "2025-02-21T08:56:33.516520Z",
     "start_time": "2025-02-21T08:56:33.440132Z"
    }
   },
   "outputs": [],
   "source": [
    "fig, ax = plt.subplots(figsize=(3, 6))\n",
    "\n",
    "age = df[\"age\"]\n",
    "\n",
    "ax.boxplot([age])\n",
    "ax.set_ylabel('Age (in years)')\n",
    "ax.set_xticklabels(['Alter'])\n",
    "ax.set_title('Box Plot: Age Feature')\n",
    "plt.show()\n",
    "\n",
    "print(f\"Min Age: {df[\"age\"].min()}\\nMax Age: {df['age'].max()}\\nAvg Age: {round(df['age'].mean(), 2)}\")"
   ]
  },
  {
   "cell_type": "markdown",
   "metadata": {},
   "source": [
    "###  [AT09] Identifikation von Ausreißern beim Kreditscore\n",
    "\n",
    "Als Business möchte ich wissen, ob in dem Datensatz numerische Ausreißer existieren. Bitte wählen Sie eine geeignete Visualisierungsmethode, um den Kreditscore zu analysieren. Info: Sofern Ausreißer in der Spalte existieren, analysieren Sie, ob es sich um inhaltlich korrekte Werte handelt oder ob diese zu bereinigen sind (wenn ja, in welcher Form)."
   ]
  },
  {
   "cell_type": "code",
   "execution_count": null,
   "metadata": {},
   "outputs": [],
   "source": [
    "fig, ax = plt.subplots(figsize=(3,6))\n",
    "\n",
    "credit_score = df[\"credit_score\"]\n",
    "\n",
    "ax.boxplot(credit_score)\n",
    "ax.set_title(\"Spalte credit_score\")\n",
    "ax.set_ylabel(\"Credit Score\")\n",
    "ax.set_xticklabels([\"credit_score\"])"
   ]
  },
  {
   "cell_type": "markdown",
   "metadata": {},
   "source": [
    "Aus dem Boxplot erkennen wir 2 Outlier, einen Maximum-Outlier und einen Minimum-Outlier. Der Minimum-Outlier ist unter 0, das sieht inhaltlich falsch aus, aber der Maximum-Outlier könnte durchaus korrekt sein.\n",
    "\n",
    "Schauen wir uns diese an.\n",
    "Den min_credit_score ersetzen wir mit dem Median der credit_scores."
   ]
  },
  {
   "cell_type": "code",
   "execution_count": null,
   "metadata": {},
   "outputs": [],
   "source": [
    "min_credit_score = df[\"credit_score\"].min()\n",
    "max_credit_score = df[\"credit_score\"].max()\n",
    "\n",
    "df[\"credit_score\"] = df[\"credit_score\"].replace(min_credit_score, df[\"credit_score\"].median())\n",
    "\n",
    "#df.boxplot(column=\"credit_score\", figsize=(3,6))\n",
    "\n",
    "fig, ax = plt.subplots(figsize=(3,6))\n",
    "\n",
    "credit_score = df[\"credit_score\"]\n",
    "\n",
    "ax.boxplot(credit_score)\n",
    "ax.set_title(\"Spalte credit_score\")\n",
    "ax.set_ylabel(\"Credit Score\")\n",
    "ax.set_xticklabels([\"credit_score\"])"
   ]
  },
  {
   "cell_type": "markdown",
   "metadata": {},
   "source": [
    "Wir sehen, der Minimum Ausreißer wurde entfernt.\n",
    "\n",
    "### [AT10] Verteilung der Balance je Land\n",
    "\n",
    "Als Business möchte ich wissen, wie die numerische Verteilung der Balance basierend auf dem Land des Kunden zu bewerten ist. Interpretieren Sie zusätzlich die Ergebnisse. Was kann ich als Business mit dem Ergebnis anfangen? Tipp: Verwenden Sie ein BoxPlot zur Visualisierung der Balance je Land.\n",
    "\n",
    "Zuerst müssen wir wissen, welche Länder es gibt, danach erstellen wir länderspezifische Listen, die nur die Balance-Werte eines Landes enthalten."
   ]
  },
  {
   "cell_type": "code",
   "execution_count": 8,
   "metadata": {},
   "outputs": [],
   "source": [
    "balance = df[\"balance\"]\n",
    "countries = df[\"country\"].unique()\n",
    "\n",
    "countries\n",
    "# Ausgabe: array(['France', 'Germany', 'Spain'], dtype=object)\n",
    "\n",
    "fra_balance = df.loc[(df[\"country\"] == \"France\"), \"balance\"]\n",
    "ger_balance = df.loc[(df[\"country\"] == \"Germany\"), \"balance\"]\n",
    "spa_balance = df.loc[(df[\"country\"] == \"Spain\"), \"balance\"]"
   ]
  },
  {
   "cell_type": "markdown",
   "metadata": {},
   "source": [
    "Wir sehen, dass es keine Fehlerhaften werte wie \"-\" oder NaN in \"country\" gibt.\n",
    "Nun visualisieren wir diese Ergebnisse und erstellen für jedes Land ein Boxplot."
   ]
  },
  {
   "cell_type": "code",
   "execution_count": null,
   "metadata": {},
   "outputs": [],
   "source": [
    "fig, ax = plt.subplots(dpi=200)\n",
    "\n",
    "ax.boxplot([fra_balance, ger_balance, spa_balance])\n",
    "ax.set_title(\"Verteilung der Balance je Land\")\n",
    "ax.set_xticklabels([\"Frankreich\", \"Deutschland\", \"Spanien\"])\n",
    "ax.set_ylabel(\"Balance\")\n",
    "ax.axhline(ger_balance.median(), linestyle=\":\")\n",
    "plt.show()\n",
    "\n",
    "print(f\"Datenpunkte für:\\n- Deutschland: {len(ger_balance)}\\n- Frankreich: {len(fra_balance)}\\n- Spanien: {len(spa_balance)}\")"
   ]
  },
  {
   "cell_type": "markdown",
   "metadata": {},
   "source": [
    "Aus dem Plot können wir ableiten:\n",
    "+ Deutsche haben bei dieser Bank im Durchschnitt mehr Geld auf ihrem Konto, als Kunden aus Frankreich oder Spanien.\n",
    "+ In Frankreich und Spanien haben die Kunden etwa gleich viel Geld auf ihren Konten.\n",
    "+ In Deutschland gibt es mehr Kunden, die besonders viel Geld auf ihrem Konto haben, als in Frankreich oder Spanien, weil die Daten stärker getreut sind.\n",
    "+ Der deutsche Median-Kunde hat fast mehr Geld auf seinem Konto wie 75% der Kunden in Frankreich oder Spanien.\n",
    "\n",
    "--> Zinsen auf das Konton könnten bei Deutschen Kunden für die Bank teurer sein. Angenommen in jedem Land sind die Zinsen bei 3% p.a., dann kann man Kosten begrenzen, indem man in Deutschland den Zinssatz auf 2,5% p.a. einstellt. Das ist dann ein Land, in dem sich das Risiko, Kunden zu verlieren lohnt, da dort die Zinsen auch teuerer sind.\n",
    "\n",
    "Allgemein können mit den Infos des Plots Handlungsempfehlungen wie diese erstellt werden.\n",
    "\n",
    "Man muss allerdings auf die Datenqualität aufpassen, da es für Frankreich doppelt so viele Datensätze gibt, wie für die beiden anderen Länder."
   ]
  },
  {
   "cell_type": "markdown",
   "metadata": {},
   "source": [
    "### [AT11] Verteilung der Balance zu Verfügbarkeit einer Kreditkarte\n",
    "\n",
    "Als Business möchte ich wissen, wie sich die Balance der Kunden abhängig von der Existenz einer Kreditkarte unterscheidet. Wählen Sie eine geeignete Visualisierung und interpretieren Sie diese. (Info: Überprüfen Sie, ob leere Felder in den Attributen existieren. Wenn ja, schlagen Sie ein mögliches Vorgehen vor, um diese zu behandeln)\n",
    "\n",
    "Identifizierung von der credit_card Spalte\n",
    "In einem Zusammenhang bringen mit der Balance \n",
    "\n",
    "Könnte wieder durch Boxplots dargestellt werden, einen für Leute mit Karte und einen ohne Karte."
   ]
  },
  {
   "cell_type": "code",
   "execution_count": null,
   "metadata": {},
   "outputs": [],
   "source": [
    "credit_card = df[\"credit_card\"]\n",
    "balance = df[\"balance\"]\n",
    "\n",
    "credit_card.unique()\n",
    "# array([ 1.,  0., nan])\n",
    "\n",
    "credit_card = df[\"credit_card\"].fillna(df[\"credit_card\"].median())\n",
    "credit_card.unique()\n",
    "credit_card.shape\n",
    "# array([1., 0.])\n",
    "\n",
    "balance_with_credit_card = df.loc[credit_card == 1, \"balance\"]\n",
    "balance_without_credit_card = df.loc[credit_card == 0, \"balance\"]\n",
    "\n",
    "print(f\"Anzahl Kunden mit credit_card: {len(balance_with_credit_card)}\\nAnzahl Kunden ohne credit_card: {len(balance_without_credit_card)}\")\n",
    "\n",
    "empty_balance = df.loc[df[\"balance\"].isna() == True, \"balance\"]\n",
    "empty_balance\n",
    "# Series([], Name: balance, dtype: float64)\n",
    "\n",
    "zerobalance_with_credit_card = balance_with_credit_card.loc[balance == 0]\n",
    "zerobalance_without_credit_card = balance_without_credit_card.loc[balance == 0]\n",
    "\n",
    "zerobalance_with_credit_card_percentage = round((len(zerobalance_with_credit_card)/len(balance_with_credit_card))*100, 2)\n",
    "zerobalance_without_credit_card_percentage = round((len(zerobalance_without_credit_card)/len(balance_without_credit_card))*100, 2)\n",
    "\n",
    "print(f\"Anzahl Kunden mit credit_card und balance 0: {zerobalance_with_credit_card_percentage}%\\nAnzahl Kunden ohne credit_card und balance 0: {zerobalance_without_credit_card_percentage}%\")"
   ]
  },
  {
   "cell_type": "markdown",
   "metadata": {},
   "source": [
    "Es gab NaN-Werte bei der credit_card Spalte, aber nicht bei der Balance. Dort gibt es zwar 0, das ist aber ein realistischer Wert."
   ]
  },
  {
   "cell_type": "code",
   "execution_count": null,
   "metadata": {},
   "outputs": [],
   "source": [
    "fig, ax = plt.subplots(1, 2, figsize=(16,9), dpi=200)\n",
    "\n",
    "ax[0].hist([balance_with_credit_card], edgecolor=\"black\")\n",
    "ax[0].set_title(\"Mit Kreditkarte\")\n",
    "ax[0].set_ylabel(\"Balance\")\n",
    "\n",
    "ax[1].hist([balance_without_credit_card], edgecolor=\"black\")\n",
    "ax[1].set_title(\"Ohne Kreditkarte\")\n",
    "ax[1].set_ylabel(\"Balance\")\n",
    "\n",
    "plt.show()"
   ]
  },
  {
   "cell_type": "markdown",
   "metadata": {},
   "source": [
    "+ Kunden mit Kreditkarte scheinen dazu zu neigen, eine höhere Balance zu haben.\n",
    "+ Kunden ohne Kreditkarte tendieren demnach dazu, eine geringere Balance zu erhalten.\n",
    "\n",
    "Bei Kunden mit Kreditkarten haben 36.73% eine Balance von 0 und bei Kunden ohne Kreditkarten haben 34.82% eine Balance von 0.\n",
    "Wir können also sagen, dass pro Gruppe mind. ein Drittel der Leute kein Geld auf dem Konto hat."
   ]
  },
  {
   "cell_type": "markdown",
   "metadata": {},
   "source": [
    "### [AT19] Verteilung des Lands bei verlassenden Kunden zwischen 30 und 45\n",
    "\n",
    "Als Business möchte ich wissen, wie die Verteilung des Lands (= country) bei Kunden zwischen 30 und 45 Jahren (= age) ausschaut, die die Bank verlassen (churn=1). Bitte wählen Sie eine geeignete Visualisierungsmethode, um die einzelnen Länder miteinander zu vergleichen."
   ]
  },
  {
   "cell_type": "code",
   "execution_count": 12,
   "metadata": {},
   "outputs": [],
   "source": [
    "customer_leaves = df.loc[df[\"churn\"] == 1]\n",
    "customer_stays = df.loc[df[\"churn\"] == 0]\n",
    "\n",
    "completeness_test = len(df) - (len(customer_leaves) + len(customer_stays))\n",
    "# 0 --> complete set\n",
    "\n",
    "age_filtered_customer_leaves = customer_leaves.loc[(customer_leaves[\"age\"] >= 30) & (customer_leaves[\"age\"] <= 45)]\n",
    "age_filtered_customer_stays = customer_stays.loc[(customer_stays[\"age\"] >= 30) & (customer_stays[\"age\"] <= 45)]\n",
    "\n",
    "fra_leaving_customers = age_filtered_customer_leaves.loc[(age_filtered_customer_leaves[\"country\"] == \"France\"), \"churn\"]\n",
    "ger_leaving_customers = age_filtered_customer_leaves.loc[(age_filtered_customer_leaves[\"country\"] == \"Germany\"), \"churn\"]\n",
    "spa_leaving_customers = age_filtered_customer_leaves.loc[(age_filtered_customer_leaves[\"country\"] == \"Spain\"), \"churn\"]\n",
    "\n",
    "fra_staying_customers = age_filtered_customer_stays.loc[(age_filtered_customer_stays[\"country\"] == \"France\"), \"churn\"]\n",
    "ger_staying_customers = age_filtered_customer_stays.loc[(age_filtered_customer_stays[\"country\"] == \"Germany\"), \"churn\"]\n",
    "spa_staying_customers = age_filtered_customer_stays.loc[(age_filtered_customer_stays[\"country\"] == \"Spain\"), \"churn\"]"
   ]
  },
  {
   "cell_type": "code",
   "execution_count": null,
   "metadata": {},
   "outputs": [],
   "source": [
    "countries = ('Frankreich', 'Deutschland', 'Spanien')\n",
    "counts = {\n",
    "    'Bleibt': [len(fra_staying_customers), len(ger_staying_customers), len(spa_staying_customers)],\n",
    "    'Geht': [len(fra_leaving_customers), len(ger_leaving_customers), len(spa_leaving_customers)],\n",
    "}\n",
    "width = 0.8\n",
    "\n",
    "\n",
    "fig, ax = plt.subplots(dpi=150)\n",
    "bottom = np.zeros(3)\n",
    "\n",
    "for churn, count in counts.items():\n",
    "    p = ax.bar(countries, count, width, label=churn, bottom=bottom)\n",
    "    bottom += count\n",
    "\n",
    "    ax.bar_label(p, label_type='center')\n",
    "\n",
    "ax.set_title('Anzahl bleibender und gehender Kunden pro Land')\n",
    "ax.legend()\n",
    "\n",
    "plt.show()"
   ]
  },
  {
   "cell_type": "markdown",
   "metadata": {},
   "source": [
    "### [AT20] Erstellung zweier komibinierter Bar Plots\n",
    "\n",
    "Als Business möchte ich wissen, wie die Verteilung der Zielvariable (= Churn) und der Verfügbarkeit einer Kreditkarte (= credit_card) ausschaut. Bitte wählen Sie einen kombinierten Bar Plot, bestehend aus einem vertikalen Bar Plot und einem horizontalen Bar Plot."
   ]
  },
  {
   "cell_type": "code",
   "execution_count": null,
   "metadata": {},
   "outputs": [],
   "source": [
    "fig, ax = plt.subplots(1, 2, figsize=(3, 6))\n",
    "\n",
    "churn_data = df.loc[df[\"churn\"], \"churn\"]\n",
    "credit_card.unique()\n",
    "#array([1., 0.])\n",
    "\n",
    "ax[0].boxplot(len(churn_data))\n",
    "ax[1].boxplot(len(credit_card))"
   ]
  }
 ],
 "metadata": {
  "kernelspec": {
   "display_name": ".venv",
   "language": "python",
   "name": "python3"
  },
  "language_info": {
   "codemirror_mode": {
    "name": "ipython",
    "version": 3
   },
   "file_extension": ".py",
   "mimetype": "text/x-python",
   "name": "python",
   "nbconvert_exporter": "python",
   "pygments_lexer": "ipython3",
   "version": "3.13.1"
  }
 },
 "nbformat": 4,
 "nbformat_minor": 2
}
